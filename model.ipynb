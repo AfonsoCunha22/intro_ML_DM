{
 "cells": [
  {
   "cell_type": "code",
   "execution_count": 68,
   "metadata": {},
   "outputs": [],
   "source": [
    "import pandas as pd\n",
    "import seaborn as sns\n",
    "import matplotlib.pyplot as plt\n",
    "import numpy as np\n",
    "import torch\n",
    "import torch.nn as nn"
   ]
  },
  {
   "cell_type": "code",
   "execution_count": 69,
   "metadata": {},
   "outputs": [
    {
     "name": "stdout",
     "output_type": "stream",
     "text": [
      "`key` None count:  95\n",
      "`in_shazam_charts` None count:  50\n"
     ]
    }
   ],
   "source": [
    "dataset_path = \"dataset/dataset-spotify-2023.csv\"\n",
    "data = pd.read_csv(dataset_path, encoding=\"latin-1\")\n",
    "columns = [\"danceability_%\", \"valence_%\", \"energy_%\", \"acousticness_%\", \"instrumentalness_%\",\n",
    "\"liveness_%\", \"speechiness_%\"]\n",
    "data = data.rename(columns={column: column.replace(\"_%\", \"\") for column in columns})\n",
    "key_None_count = data[\"key\"].isna().sum()\n",
    "in_shazam_charts_None_count = data[\"in_shazam_charts\"].isna().sum()\n",
    "\n",
    "print(\"`key` None count: \", key_None_count)\n",
    "print(\"`in_shazam_charts` None count: \", in_shazam_charts_None_count)\n",
    "\n",
    "# Replace NaN values with Unspecified, it may be useful later on\n",
    "data = data.replace(np.nan, \"Unavailable\")\n",
    "\n",
    "# Data is malformed, need to remove comma `,`\n",
    "data[\"in_deezer_playlists\"] = data[\"in_deezer_playlists\"].replace(\",\", \"\", regex=True)\n",
    "data[\"in_shazam_charts\"] = data[\"in_deezer_playlists\"].replace(\",\", \"\", regex=True)\n",
    "\n",
    "# Convert columns to int64\n",
    "# streams, in_deezer_playlists, in_shazam_charts\n",
    "data[\"in_deezer_playlists\"] = data[\"in_deezer_playlists\"].astype(int)\n",
    "data[\"in_shazam_charts\"] = data[\"in_shazam_charts\"].astype(int)\n",
    "\n",
    "# Streams overflowed with int, so use np.int64 to fit the whole numbers\n",
    "data[\"streams\"] = data[\"streams\"].astype(np.int64)\n",
    "\n",
    "# Wee see that `streams` is very large compared to to other data, next larger is `in_spotify_playlists`\n",
    "# Add extra column with log value of streams\n",
    "# data[\"streams_log\"] = np.log2(data[\"streams\"])"
   ]
  },
  {
   "cell_type": "code",
   "execution_count": 70,
   "metadata": {},
   "outputs": [],
   "source": [
    "# One-hot encoding values\n",
    "data = pd.get_dummies(data, columns=[\"key\", \"mode\"], prefix=[\"key\", \"mode\"])\n",
    "data = data.applymap(lambda x: int(x) if isinstance(x, bool) else x)"
   ]
  },
  {
   "cell_type": "code",
   "execution_count": 71,
   "metadata": {},
   "outputs": [
    {
     "name": "stdout",
     "output_type": "stream",
     "text": [
      "<class 'pandas.core.frame.DataFrame'>\n",
      "RangeIndex: 952 entries, 0 to 951\n",
      "Data columns (total 34 columns):\n",
      " #   Column                Non-Null Count  Dtype\n",
      "---  ------                --------------  -----\n",
      " 0   artist_count          952 non-null    int64\n",
      " 1   released_year         952 non-null    int64\n",
      " 2   released_month        952 non-null    int64\n",
      " 3   released_day          952 non-null    int64\n",
      " 4   in_spotify_playlists  952 non-null    int64\n",
      " 5   in_spotify_charts     952 non-null    int64\n",
      " 6   streams               952 non-null    int64\n",
      " 7   in_apple_playlists    952 non-null    int64\n",
      " 8   in_apple_charts       952 non-null    int64\n",
      " 9   in_deezer_playlists   952 non-null    int64\n",
      " 10  in_deezer_charts      952 non-null    int64\n",
      " 11  in_shazam_charts      952 non-null    int64\n",
      " 12  bpm                   952 non-null    int64\n",
      " 13  danceability          952 non-null    int64\n",
      " 14  valence               952 non-null    int64\n",
      " 15  energy                952 non-null    int64\n",
      " 16  acousticness          952 non-null    int64\n",
      " 17  instrumentalness      952 non-null    int64\n",
      " 18  liveness              952 non-null    int64\n",
      " 19  speechiness           952 non-null    int64\n",
      " 20  key_A                 952 non-null    int64\n",
      " 21  key_A#                952 non-null    int64\n",
      " 22  key_B                 952 non-null    int64\n",
      " 23  key_C#                952 non-null    int64\n",
      " 24  key_D                 952 non-null    int64\n",
      " 25  key_D#                952 non-null    int64\n",
      " 26  key_E                 952 non-null    int64\n",
      " 27  key_F                 952 non-null    int64\n",
      " 28  key_F#                952 non-null    int64\n",
      " 29  key_G                 952 non-null    int64\n",
      " 30  key_G#                952 non-null    int64\n",
      " 31  key_Unavailable       952 non-null    int64\n",
      " 32  mode_Major            952 non-null    int64\n",
      " 33  mode_Minor            952 non-null    int64\n",
      "dtypes: int64(34)\n",
      "memory usage: 253.0 KB\n"
     ]
    }
   ],
   "source": [
    "# Select numeric columns\n",
    "data_numeric = data.select_dtypes(exclude=\"object\")\n",
    "data_numeric.info(verbose=True, show_counts=True)"
   ]
  },
  {
   "cell_type": "code",
   "execution_count": 72,
   "metadata": {},
   "outputs": [],
   "source": [
    "from sklearn.preprocessing import StandardScaler\n",
    "\n",
    "scaler = StandardScaler()\n",
    "data_normalized = scaler.fit_transform(data_numeric)\n",
    "data_numeric = pd.DataFrame(data_normalized, columns=data_numeric.columns)"
   ]
  },
  {
   "cell_type": "code",
   "execution_count": 73,
   "metadata": {},
   "outputs": [],
   "source": [
    "# Regression\n",
    "# Target value is `streams`\n",
    "X = torch.tensor(data_numeric.drop(\"streams\", axis=1).values, dtype=torch.float32)\n",
    "Y = torch.tensor(data_numeric[\"streams\"].values, dtype=torch.float32).view(-1, 1)"
   ]
  },
  {
   "cell_type": "code",
   "execution_count": 74,
   "metadata": {},
   "outputs": [
    {
     "name": "stdout",
     "output_type": "stream",
     "text": [
      "Epoch [100/1000], Loss: 0.2975\n",
      "Epoch [200/1000], Loss: 0.2689\n",
      "Epoch [300/1000], Loss: 0.2627\n",
      "Epoch [400/1000], Loss: 0.2610\n",
      "Epoch [500/1000], Loss: 0.2604\n",
      "Epoch [600/1000], Loss: 0.2602\n",
      "Epoch [700/1000], Loss: 0.2601\n",
      "Epoch [800/1000], Loss: 0.2601\n",
      "Epoch [900/1000], Loss: 0.2601\n",
      "Epoch [1000/1000], Loss: 0.2601\n"
     ]
    }
   ],
   "source": [
    "\n",
    "class LinearRegression(nn.Module):\n",
    "    def __init__(self, input_size):\n",
    "        super(LinearRegression, self).__init__()\n",
    "        self.linear = nn.Linear(input_size, 1)\n",
    "\n",
    "    def forward(self, x):\n",
    "        return self.linear(x)\n",
    "\n",
    "input_size = X.shape[1] \n",
    "model = LinearRegression(input_size=input_size)\n",
    "\n",
    "criterion = nn.MSELoss()\n",
    "optimizer = torch.optim.SGD(model.parameters(), lr=0.01)\n",
    "num_epochs = 1000\n",
    "max_gradient_norm = 5.0\n",
    "\n",
    "for epoch in range(num_epochs):\n",
    "    outputs = model(X)\n",
    "    loss = criterion(outputs, Y)\n",
    "\n",
    "    optimizer.zero_grad()\n",
    "    loss.backward()\n",
    "    nn.utils.clip_grad_norm_(model.parameters(), max_gradient_norm)\n",
    "    optimizer.step()\n",
    "\n",
    "    if (epoch + 1) % 100 == 0:\n",
    "        print(f'Epoch [{epoch + 1}/{num_epochs}], Loss: {loss.item():.4f}')\n",
    "\n",
    "predicted = model(X).detach().numpy()"
   ]
  },
  {
   "cell_type": "code",
   "execution_count": 75,
   "metadata": {},
   "outputs": [],
   "source": [
    "# Classification\n",
    "\n",
    "# Classify songs based on chart performance, `hit` songs on specific threshold\n",
    "# Let's define the `hit` threshold\n",
    "# Percentile analysis\n",
    "# You could define a hit as songs that fall within the top 10% of stream counts in your dataset.\n",
    "threshold = np.percentile(data[\"streams\"], 80)\n",
    "data_numeric[\"hit\"] = (data_numeric[\"streams\"] >= threshold).astype(int)\n",
    "\n",
    "# Note:\n",
    "# Lyrical Content (this requires scrapping)"
   ]
  },
  {
   "cell_type": "code",
   "execution_count": 76,
   "metadata": {},
   "outputs": [],
   "source": [
    "from sklearn.model_selection import train_test_split, cross_val_score, StratifiedKFold\n",
    "from sklearn.ensemble import RandomForestClassifier\n",
    "from sklearn.metrics import accuracy_score, classification_report"
   ]
  },
  {
   "cell_type": "code",
   "execution_count": 77,
   "metadata": {},
   "outputs": [
    {
     "name": "stdout",
     "output_type": "stream",
     "text": [
      "Cross-Validation Scores: [1. 1. 1. 1. 1.]\n",
      "Average Cross-Validation Accuracy: 1.00\n",
      "Test Set Accuracy: 1.00\n",
      "Classification Report:\n",
      "              precision    recall  f1-score   support\n",
      "\n",
      "           0       1.00      1.00      1.00       191\n",
      "\n",
      "    accuracy                           1.00       191\n",
      "   macro avg       1.00      1.00      1.00       191\n",
      "weighted avg       1.00      1.00      1.00       191\n",
      "\n"
     ]
    }
   ],
   "source": [
    "# No this doesn't make sense\n",
    "\n",
    "X_train, X_test, y_train, y_test = train_test_split(X, y, test_size=0.2, random_state=42)\n",
    "\n",
    "classifier = RandomForestClassifier(random_state=42)\n",
    "\n",
    "cv = StratifiedKFold(n_splits=5, shuffle=True, random_state=42)\n",
    "cv_scores = cross_val_score(classifier, X_train, y_train, cv=cv, scoring=\"accuracy\")\n",
    "\n",
    "print(\"Cross-Validation Scores:\", cv_scores)\n",
    "print(f\"Average Cross-Validation Accuracy: {cv_scores.mean():.2f}\")\n",
    "\n",
    "classifier.fit(X_train, y_train)\n",
    "\n",
    "y_pred = classifier.predict(X_test)\n",
    "\n",
    "accuracy = accuracy_score(y_test, y_pred)\n",
    "\n",
    "print(f\"Test Set Accuracy: {accuracy:.2f}\")\n",
    "\n",
    "report = classification_report(y_test, y_pred)\n",
    "print(\"Classification Report:\")\n",
    "print(report)"
   ]
  }
 ],
 "metadata": {
  "kernelspec": {
   "display_name": "mlshit",
   "language": "python",
   "name": "python3"
  },
  "language_info": {
   "codemirror_mode": {
    "name": "ipython",
    "version": 3
   },
   "file_extension": ".py",
   "mimetype": "text/x-python",
   "name": "python",
   "nbconvert_exporter": "python",
   "pygments_lexer": "ipython3",
   "version": "3.11.0"
  },
  "orig_nbformat": 4
 },
 "nbformat": 4,
 "nbformat_minor": 2
}
