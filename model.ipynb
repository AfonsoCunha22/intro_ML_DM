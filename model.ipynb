{
 "cells": [
  {
   "cell_type": "code",
   "execution_count": 71,
   "metadata": {},
   "outputs": [],
   "source": [
    "import pandas as pd\n",
    "import seaborn as sns\n",
    "import matplotlib.pyplot as plt\n",
    "import numpy as np\n",
    "import torch\n",
    "import torch.nn as nn\n",
    "from sklearn.preprocessing import StandardScaler, LabelEncoder\n",
    "from sklearn.model_selection import train_test_split, cross_val_score, StratifiedKFold\n",
    "from sklearn.ensemble import RandomForestClassifier\n",
    "from sklearn.metrics import accuracy_score, classification_report, mean_squared_error, precision_score, recall_score, f1_score\n",
    "from sklearn.linear_model import LinearRegression\n",
    "from sklearn.dummy import DummyClassifier"
   ]
  },
  {
   "cell_type": "code",
   "execution_count": 44,
   "metadata": {},
   "outputs": [
    {
     "name": "stdout",
     "output_type": "stream",
     "text": [
      "`key` None count:  95\n",
      "`in_shazam_charts` None count:  50\n"
     ]
    }
   ],
   "source": [
    "dataset_path = \"dataset/dataset-spotify-2023.csv\"\n",
    "data = pd.read_csv(dataset_path, encoding=\"latin-1\")\n",
    "columns = [\"danceability_%\", \"valence_%\", \"energy_%\", \"acousticness_%\", \"instrumentalness_%\",\n",
    "\"liveness_%\", \"speechiness_%\"]\n",
    "data = data.rename(columns={column: column.replace(\"_%\", \"\") for column in columns})\n",
    "key_None_count = data[\"key\"].isna().sum()\n",
    "in_shazam_charts_None_count = data[\"in_shazam_charts\"].isna().sum()\n",
    "\n",
    "print(\"`key` None count: \", key_None_count)\n",
    "print(\"`in_shazam_charts` None count: \", in_shazam_charts_None_count)\n",
    "\n",
    "# Replace NaN values with Unspecified, it may be useful later on\n",
    "data = data.replace(np.nan, \"Unavailable\")\n",
    "\n",
    "# Data is malformed, need to remove comma `,`\n",
    "data[\"in_deezer_playlists\"] = data[\"in_deezer_playlists\"].replace(\",\", \"\", regex=True)\n",
    "data[\"in_shazam_charts\"] = data[\"in_deezer_playlists\"].replace(\",\", \"\", regex=True)\n",
    "\n",
    "# Convert columns to int64\n",
    "# streams, in_deezer_playlists, in_shazam_charts\n",
    "data[\"in_deezer_playlists\"] = data[\"in_deezer_playlists\"].astype(int)\n",
    "data[\"in_shazam_charts\"] = data[\"in_shazam_charts\"].astype(int)\n",
    "\n",
    "# Streams overflowed with int, so use np.int64 to fit the whole numbers\n",
    "data[\"streams\"] = data[\"streams\"].astype(np.int64)\n",
    "\n",
    "# Wee see that `streams` is very large compared to to other data, next larger is `in_spotify_playlists`\n",
    "# Add extra column with log value of streams\n",
    "# data[\"streams_log\"] = np.log2(data[\"streams\"])"
   ]
  },
  {
   "cell_type": "code",
   "execution_count": 45,
   "metadata": {},
   "outputs": [],
   "source": [
    "# One-hot encoding values\n",
    "data = pd.get_dummies(data, columns=[\"key\", \"mode\"], prefix=[\"key\", \"mode\"])\n",
    "data = data.applymap(lambda x: int(x) if isinstance(x, bool) else x)"
   ]
  },
  {
   "cell_type": "code",
   "execution_count": 46,
   "metadata": {},
   "outputs": [
    {
     "name": "stdout",
     "output_type": "stream",
     "text": [
      "<class 'pandas.core.frame.DataFrame'>\n",
      "RangeIndex: 952 entries, 0 to 951\n",
      "Data columns (total 34 columns):\n",
      " #   Column                Non-Null Count  Dtype\n",
      "---  ------                --------------  -----\n",
      " 0   artist_count          952 non-null    int64\n",
      " 1   released_year         952 non-null    int64\n",
      " 2   released_month        952 non-null    int64\n",
      " 3   released_day          952 non-null    int64\n",
      " 4   in_spotify_playlists  952 non-null    int64\n",
      " 5   in_spotify_charts     952 non-null    int64\n",
      " 6   streams               952 non-null    int64\n",
      " 7   in_apple_playlists    952 non-null    int64\n",
      " 8   in_apple_charts       952 non-null    int64\n",
      " 9   in_deezer_playlists   952 non-null    int64\n",
      " 10  in_deezer_charts      952 non-null    int64\n",
      " 11  in_shazam_charts      952 non-null    int64\n",
      " 12  bpm                   952 non-null    int64\n",
      " 13  danceability          952 non-null    int64\n",
      " 14  valence               952 non-null    int64\n",
      " 15  energy                952 non-null    int64\n",
      " 16  acousticness          952 non-null    int64\n",
      " 17  instrumentalness      952 non-null    int64\n",
      " 18  liveness              952 non-null    int64\n",
      " 19  speechiness           952 non-null    int64\n",
      " 20  key_A                 952 non-null    int64\n",
      " 21  key_A#                952 non-null    int64\n",
      " 22  key_B                 952 non-null    int64\n",
      " 23  key_C#                952 non-null    int64\n",
      " 24  key_D                 952 non-null    int64\n",
      " 25  key_D#                952 non-null    int64\n",
      " 26  key_E                 952 non-null    int64\n",
      " 27  key_F                 952 non-null    int64\n",
      " 28  key_F#                952 non-null    int64\n",
      " 29  key_G                 952 non-null    int64\n",
      " 30  key_G#                952 non-null    int64\n",
      " 31  key_Unavailable       952 non-null    int64\n",
      " 32  mode_Major            952 non-null    int64\n",
      " 33  mode_Minor            952 non-null    int64\n",
      "dtypes: int64(34)\n",
      "memory usage: 253.0 KB\n"
     ]
    }
   ],
   "source": [
    "# Select numeric columns\n",
    "data_numeric = data.select_dtypes(exclude=\"object\")\n",
    "data_numeric.info(verbose=True, show_counts=True)"
   ]
  },
  {
   "cell_type": "code",
   "execution_count": 47,
   "metadata": {},
   "outputs": [],
   "source": [
    "\n",
    "scaler = StandardScaler()\n",
    "data_normalized = scaler.fit_transform(data_numeric)\n",
    "data_numeric = pd.DataFrame(data_normalized, columns=data_numeric.columns)"
   ]
  },
  {
   "cell_type": "code",
   "execution_count": 48,
   "metadata": {},
   "outputs": [],
   "source": [
    "# Regression\n",
    "# Target value is `streams`\n",
    "X = torch.tensor(data_numeric.drop(\"streams\", axis=1).values, dtype=torch.float32)\n",
    "Y = torch.tensor(data_numeric[\"streams\"].values, dtype=torch.float32).view(-1, 1)"
   ]
  },
  {
   "cell_type": "code",
   "execution_count": 49,
   "metadata": {},
   "outputs": [
    {
     "data": {
      "text/plain": [
       "['artist_count',\n",
       " 'released_year',\n",
       " 'released_month',\n",
       " 'released_day',\n",
       " 'in_spotify_playlists',\n",
       " 'in_spotify_charts',\n",
       " 'streams',\n",
       " 'in_apple_playlists',\n",
       " 'in_apple_charts',\n",
       " 'in_deezer_playlists',\n",
       " 'in_deezer_charts',\n",
       " 'in_shazam_charts',\n",
       " 'bpm',\n",
       " 'danceability',\n",
       " 'valence',\n",
       " 'energy',\n",
       " 'acousticness',\n",
       " 'instrumentalness',\n",
       " 'liveness',\n",
       " 'speechiness',\n",
       " 'key_A',\n",
       " 'key_A#',\n",
       " 'key_B',\n",
       " 'key_C#',\n",
       " 'key_D',\n",
       " 'key_D#',\n",
       " 'key_E',\n",
       " 'key_F',\n",
       " 'key_F#',\n",
       " 'key_G',\n",
       " 'key_G#',\n",
       " 'key_Unavailable',\n",
       " 'mode_Major',\n",
       " 'mode_Minor']"
      ]
     },
     "execution_count": 49,
     "metadata": {},
     "output_type": "execute_result"
    }
   ],
   "source": [
    "list(data_numeric.head())"
   ]
  },
  {
   "cell_type": "code",
   "execution_count": 50,
   "metadata": {},
   "outputs": [
    {
     "name": "stdout",
     "output_type": "stream",
     "text": [
      "Composition Mean Squared Error: 0.7729105353355408\n",
      "Composition Features Model\n",
      "Coefficients: [[-0.00260832  0.00142655 -0.00142656 -0.04600005  0.02953432 -0.01111735\n",
      "   0.07326405  0.02920508  0.02742532 -0.00265784 -0.0168748  -0.00251583\n",
      "  -0.02157266 -0.00115427 -0.11126368  0.04990458 -0.03024113 -0.04485383\n",
      "  -0.04963664 -0.07926461 -0.13000903]]\n",
      "Intercept: [0.0162504]\n"
     ]
    }
   ],
   "source": [
    "\n",
    "\n",
    "# Selecting features (X) and target variable (y)\n",
    "composition_features = ['bpm', 'mode_Major', 'mode_Minor', 'key_A',\n",
    " 'key_A#',\n",
    " 'key_B',\n",
    " 'key_C#',\n",
    " 'key_D',\n",
    " 'key_D#',\n",
    " 'key_E',\n",
    " 'key_F',\n",
    " 'key_F#',\n",
    " 'key_G',\n",
    "'key_G#', 'danceability', 'valence', 'energy', 'acousticness', 'instrumentalness', 'liveness', 'speechiness']\n",
    "#musical_features = ['danceability','valence','energy','acousticness','instrumentalness','liveness','speechiness']\n",
    "\n",
    "X = torch.tensor(\n",
    "    data_numeric[composition_features].values, dtype=torch.float32)\n",
    "Y = torch.tensor(data_numeric[\"streams\"].values,\n",
    "                 dtype=torch.float32).view(-1, 1)\n",
    "\n",
    "# Splitting the dataset into training and testing sets\n",
    "X_train, X_test, y_train, y_test = train_test_split(X, Y, test_size=0.2, random_state=42)\n",
    "\n",
    "\n",
    "# Creating a linear regression model\n",
    "model = LinearRegression()\n",
    "\n",
    "# Training the model\n",
    "model.fit(X_train, y_train)\n",
    "\n",
    "# Making predictions on the test set\n",
    "y_pred = model.predict(X_test)\n",
    "\n",
    "# Evaluating the model\n",
    "c_mse = mean_squared_error(y_test, y_pred)\n",
    "print(f'Composition Mean Squared Error: {c_mse}')\n",
    "\n",
    "\n",
    "\n",
    "print('Composition Features Model')\n",
    "print('Coefficients:', model.coef_)\n",
    "print('Intercept:', model.intercept_)"
   ]
  },
  {
   "cell_type": "code",
   "execution_count": 51,
   "metadata": {},
   "outputs": [
    {
     "name": "stdout",
     "output_type": "stream",
     "text": [
      "Epoch [100/1000], Loss: 0.9627\n",
      "Epoch [200/1000], Loss: 0.9589\n"
     ]
    },
    {
     "name": "stdout",
     "output_type": "stream",
     "text": [
      "Epoch [300/1000], Loss: 0.9586\n",
      "Epoch [400/1000], Loss: 0.9585\n",
      "Epoch [500/1000], Loss: 0.9585\n",
      "Epoch [600/1000], Loss: 0.9584\n",
      "Epoch [700/1000], Loss: 0.9584\n",
      "Epoch [800/1000], Loss: 0.9584\n",
      "Epoch [900/1000], Loss: 0.9584\n",
      "Epoch [1000/1000], Loss: 0.9584\n"
     ]
    }
   ],
   "source": [
    "\n",
    "class LinearRegression(nn.Module):\n",
    "    def __init__(self, input_size):\n",
    "        super(LinearRegression, self).__init__()\n",
    "        self.linear = nn.Linear(input_size, 1)\n",
    "\n",
    "    def forward(self, x):\n",
    "        return self.linear(x)\n",
    "\n",
    "input_size = X.shape[1] \n",
    "model = LinearRegression(input_size=input_size)\n",
    "\n",
    "criterion = nn.MSELoss()\n",
    "optimizer = torch.optim.SGD(model.parameters(), lr=0.01)\n",
    "num_epochs = 1000\n",
    "max_gradient_norm = 5.0\n",
    "\n",
    "for epoch in range(num_epochs):\n",
    "    outputs = model(X)\n",
    "    loss = criterion(outputs, Y)\n",
    "\n",
    "    optimizer.zero_grad()\n",
    "    loss.backward()\n",
    "    nn.utils.clip_grad_norm_(model.parameters(), max_gradient_norm)\n",
    "    optimizer.step()\n",
    "\n",
    "    if (epoch + 1) % 100 == 0:\n",
    "        print(f'Epoch [{epoch + 1}/{num_epochs}], Loss: {loss.item():.4f}')\n",
    "\n",
    "predicted = model(X).detach().numpy()"
   ]
  },
  {
   "cell_type": "code",
   "execution_count": 52,
   "metadata": {},
   "outputs": [],
   "source": [
    "# Classification\n",
    "\n",
    "# Classify songs based on chart performance, `hit` songs on specific threshold\n",
    "# Let's define the `hit` threshold\n",
    "# Percentile analysis\n",
    "# You could define a hit as songs that fall within the top 10% of stream counts in your dataset.\n",
    "threshold = np.percentile(data[\"streams\"], 80)\n",
    "data_numeric[\"hit\"] = (data_numeric[\"streams\"] >= threshold).astype(int)\n",
    "\n",
    "# Note:\n",
    "# Lyrical Content (this requires scrapping)"
   ]
  },
  {
   "cell_type": "code",
   "execution_count": 73,
   "metadata": {},
   "outputs": [
    {
     "name": "stdout",
     "output_type": "stream",
     "text": [
      "Accuracy: 0.9267\n",
      "Precision: 1.0000\n",
      "Recall: 0.0000\n",
      "F1 Score: 0.0000\n"
     ]
    }
   ],
   "source": [
    "# Classification - Baseline\n",
    "\n",
    "# Classify songs based on chart performance, `hit` songs on specific threshold\n",
    "# Let's define the `hit` threshold\n",
    "# Percentile analysis\n",
    "# You could define a hit as songs that fall within the top 10% of stream counts in your dataset.\n",
    "hit_threshold = data_numeric[\"streams\"].quantile(0.9)\n",
    "\n",
    "data_numeric['hit'] = data_numeric['streams'] >= hit_threshold\n",
    "\n",
    "\n",
    "bl_X = data_numeric[composition_features]\n",
    "bl_y = data_numeric['hit']\n",
    "\n",
    "# Split the dataset into training and testing sets\n",
    "bl_X_train, bl_X_test, bl_y_train, bl_y_test = train_test_split(\n",
    "    bl_X, bl_y, test_size=0.2, random_state=42)\n",
    "\n",
    "# Create a Dummy Classifier as the baseline\n",
    "baseline_model = DummyClassifier(strategy='most_frequent')\n",
    "\n",
    "# Train the baseline model\n",
    "baseline_model.fit(bl_X_train, bl_y_train)\n",
    "\n",
    "# Make predictions\n",
    "baseline_predictions = baseline_model.predict(bl_X_test)\n",
    "\n",
    "# Evaluate the baseline model\n",
    "accuracy = accuracy_score(bl_y_test, baseline_predictions)\n",
    "precision = precision_score(bl_y_test, baseline_predictions, zero_division=1)\n",
    "recall = recall_score(bl_y_test, baseline_predictions)\n",
    "f1 = f1_score(bl_y_test, baseline_predictions)\n",
    "\n",
    "print(f'Accuracy: {accuracy:.4f}')\n",
    "print(f'Precision: {precision:.4f}')\n",
    "print(f'Recall: {recall:.4f}')\n",
    "print(f'F1 Score: {f1:.4f}')"
   ]
  },
  {
   "cell_type": "code",
   "execution_count": 53,
   "metadata": {},
   "outputs": [
    {
     "ename": "NameError",
     "evalue": "name 'y' is not defined",
     "output_type": "error",
     "traceback": [
      "\u001b[1;31m---------------------------------------------------------------------------\u001b[0m",
      "\u001b[1;31mNameError\u001b[0m                                 Traceback (most recent call last)",
      "\u001b[1;32mi:\\PythonProjects\\intro_ML_DM\\model.ipynb Cell 11\u001b[0m line \u001b[0;36m3\n\u001b[0;32m      <a href='vscode-notebook-cell:/i%3A/PythonProjects/intro_ML_DM/model.ipynb#X13sZmlsZQ%3D%3D?line=0'>1</a>\u001b[0m \u001b[39m# No this doesn't make sense\u001b[39;00m\n\u001b[1;32m----> <a href='vscode-notebook-cell:/i%3A/PythonProjects/intro_ML_DM/model.ipynb#X13sZmlsZQ%3D%3D?line=2'>3</a>\u001b[0m X_train, X_test, y_train, y_test \u001b[39m=\u001b[39m train_test_split(X, y, test_size\u001b[39m=\u001b[39m\u001b[39m0.2\u001b[39m, random_state\u001b[39m=\u001b[39m\u001b[39m42\u001b[39m)\n\u001b[0;32m      <a href='vscode-notebook-cell:/i%3A/PythonProjects/intro_ML_DM/model.ipynb#X13sZmlsZQ%3D%3D?line=4'>5</a>\u001b[0m classifier \u001b[39m=\u001b[39m RandomForestClassifier(random_state\u001b[39m=\u001b[39m\u001b[39m42\u001b[39m)\n\u001b[0;32m      <a href='vscode-notebook-cell:/i%3A/PythonProjects/intro_ML_DM/model.ipynb#X13sZmlsZQ%3D%3D?line=6'>7</a>\u001b[0m cv \u001b[39m=\u001b[39m StratifiedKFold(n_splits\u001b[39m=\u001b[39m\u001b[39m5\u001b[39m, shuffle\u001b[39m=\u001b[39m\u001b[39mTrue\u001b[39;00m, random_state\u001b[39m=\u001b[39m\u001b[39m42\u001b[39m)\n",
      "\u001b[1;31mNameError\u001b[0m: name 'y' is not defined"
     ]
    }
   ],
   "source": [
    "# No this doesn't make sense\n",
    "\n",
    "X_train, X_test, y_train, y_test = train_test_split(X, y, test_size=0.2, random_state=42)\n",
    "\n",
    "classifier = RandomForestClassifier(random_state=42)\n",
    "\n",
    "cv = StratifiedKFold(n_splits=5, shuffle=True, random_state=42)\n",
    "cv_scores = cross_val_score(classifier, X_train, y_train, cv=cv, scoring=\"accuracy\")\n",
    "\n",
    "print(\"Cross-Validation Scores:\", cv_scores)\n",
    "print(f\"Average Cross-Validation Accuracy: {cv_scores.mean():.2f}\")\n",
    "\n",
    "classifier.fit(X_train, y_train)\n",
    "\n",
    "y_pred = classifier.predict(X_test)\n",
    "\n",
    "accuracy = accuracy_score(y_test, y_pred)\n",
    "\n",
    "print(f\"Test Set Accuracy: {accuracy:.2f}\")\n",
    "\n",
    "report = classification_report(y_test, y_pred)\n",
    "print(\"Classification Report:\")\n",
    "print(report)"
   ]
  }
 ],
 "metadata": {
  "kernelspec": {
   "display_name": "mlshit",
   "language": "python",
   "name": "python3"
  },
  "language_info": {
   "codemirror_mode": {
    "name": "ipython",
    "version": 3
   },
   "file_extension": ".py",
   "mimetype": "text/x-python",
   "name": "python",
   "nbconvert_exporter": "python",
   "pygments_lexer": "ipython3",
   "version": "3.11.4"
  },
  "orig_nbformat": 4
 },
 "nbformat": 4,
 "nbformat_minor": 2
}
