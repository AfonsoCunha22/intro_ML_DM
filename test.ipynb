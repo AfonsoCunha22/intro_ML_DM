{
 "cells": [
  {
   "cell_type": "code",
   "execution_count": null,
   "metadata": {},
   "outputs": [],
   "source": [
    "import pandas as pd\n",
    "import seaborn as sns\n",
    "import matplotlib.pyplot as plt\n",
    "import numpy as np"
   ]
  },
  {
   "cell_type": "code",
   "execution_count": null,
   "metadata": {},
   "outputs": [],
   "source": [
    "\n",
    "# Edit options\n",
    "# pd.set_option(\"display.max_columns\", None)\n",
    "# pd.set_option(\"display.max_rows\", None)"
   ]
  },
  {
   "cell_type": "code",
   "execution_count": null,
   "metadata": {},
   "outputs": [],
   "source": [
    "dataset_path = \"dataset/dataset-spotify-2023.csv\"\n",
    "data = pd.read_csv(dataset_path, encoding=\"latin-1\")"
   ]
  },
  {
   "cell_type": "code",
   "execution_count": null,
   "metadata": {},
   "outputs": [],
   "source": [
    "data.head()"
   ]
  },
  {
   "cell_type": "code",
   "execution_count": null,
   "metadata": {},
   "outputs": [],
   "source": [
    "data.info(verbose=True, show_counts=True)"
   ]
  },
  {
   "cell_type": "code",
   "execution_count": null,
   "metadata": {},
   "outputs": [],
   "source": [
    "columns = [\"danceability_%\", \"valence_%\", \"energy_%\", \"acousticness_%\", \"instrumentalness_%\",\n",
    "\"liveness_%\", \"speechiness_%\"]\n",
    "\n",
    "# Rename selected columns\n",
    "data = data.rename(columns={column: column.replace(\"_%\", \"\") for column in columns})"
   ]
  },
  {
   "cell_type": "code",
   "execution_count": null,
   "metadata": {},
   "outputs": [],
   "source": [
    "# Print NaN count of `key` (95), no other column has missing data \n",
    "key_None_count = data[\"key\"].isna().sum()\n",
    "print(\"Key None count: \", key_None_count)\n",
    "\n",
    "# Replace NaN values with Unspecified, it may be useful later on\n",
    "data = data.replace(np.nan, \"Unspecified\")\n",
    "# data[\"key\"].transpose()"
   ]
  },
  {
   "cell_type": "code",
   "execution_count": null,
   "metadata": {},
   "outputs": [],
   "source": [
    "# Data is malformed, need to remove comma ,\n",
    "data[\"in_deezer_playlists\"] = data[\"in_deezer_playlists\"].replace(\",\", \"\", regex=True)\n",
    "data[\"in_shazam_charts\"] = data[\"in_deezer_playlists\"].replace(\",\", \"\", regex=True)\n",
    "\n",
    "# Convert columns to int64\n",
    "# streams, in_deezer_playlists, in_shazam_charts\n",
    "data[\"in_deezer_playlists\"] = data[\"in_deezer_playlists\"].astype(int)\n",
    "data[\"in_shazam_charts\"] = data[\"in_shazam_charts\"].astype(int)\n",
    "\n",
    "# It overflowed with int so np.int64 to fit the whole numbers\n",
    "data[\"streams\"] = data[\"streams\"].astype(np.int64)\n",
    "\n",
    "# Wee see that `streams` is very large compared to to other data, next larger is `in_spotify_playlists`\n",
    "# Add extra column with log value of streams\n",
    "data[\"streams_log\"] = np.log2(data[\"streams\"])\n",
    "\n",
    "# Issue with data, there is BPM110KeyAModeMajorDanceability53Valence75Energy69Acousticness7Instrumentalness0Liveness17Speechiness3\n",
    "# Problematic record 576, just deleted it manually it was just noise in the data"
   ]
  },
  {
   "cell_type": "code",
   "execution_count": null,
   "metadata": {},
   "outputs": [],
   "source": [
    "# Print statistics, print them without the scientific notation\n",
    "data.describe().apply(lambda s: s.apply(lambda x: format(x, \"g\"))).transpose()"
   ]
  },
  {
   "cell_type": "code",
   "execution_count": null,
   "metadata": {},
   "outputs": [],
   "source": [
    "# Select numeric columns\n",
    "data_numeric = data.select_dtypes(exclude=\"object\")"
   ]
  },
  {
   "cell_type": "markdown",
   "metadata": {},
   "source": [
    "## Characterizing data columns\n",
    "\n",
    "* track_name    (discrete, nominal) \n",
    "* artist(s)_name    (discrete, nominal) \n",
    "* artist_count  (discrete, ratio) \n",
    "* released_year (discrete, ordinal) \n",
    "* released_month    (discrete, ordinal) \n",
    "* released_day  (discrete, ordinal) \n",
    "* in_spotify_playlists  (discrete, ratio) \n",
    "* in_spotify_charts (discrete, ratio) \n",
    "* streams   (discrete, ratio) \n",
    "* in_apple_playlists    (discrete, ratio)\n",
    "* in_apple_charts   (discrete, ratio) \n",
    "* in_deezer_playlists   (discrete, ratio) \n",
    "* in_deezer_charts  (discrete, ratio)\n",
    "* in_shazam_charts  (discrete, ratio) \n",
    "* bpm   (continuous, ratio) \n",
    "* key   (discrete, nominal) \n",
    "* mode  (discrete, nominal) \n",
    "* danceability_%    (continuous, ratio) \n",
    "* valence_% (continuous, ratio) \n",
    "* energy_%  (continuous, ratio) \n",
    "* acousticness_%    (continuous, ratio) \n",
    "* instrumentalness_%    (continuous, ratio) \n",
    "* liveness_%    (continuous, ratio) \n",
    "* speechiness_% (continuous, ratio) "
   ]
  },
  {
   "cell_type": "markdown",
   "metadata": {},
   "source": [
    "## Useful code from Toolbox\n",
    "\n",
    "There is a list of already implemented functions we can use from the ToolBox to perform Data Analysis.\n",
    "\n",
    "* categoric2numeric.py : one-hot encoding\n",
    "* similarity.py : similarity matrices\n",
    "* statistics.py : chi-squared tests and other\n",
    "* ex1_5_4.py : regression problem plot\n",
    "* ex2_1_2.py : scatterplot\n",
    "* ex2_1_3.py : PCAs\n",
    "* ...\n"
   ]
  },
  {
   "cell_type": "code",
   "execution_count": null,
   "metadata": {},
   "outputs": [],
   "source": [
    "# Data Plotting\n",
    "## Bar chart\n",
    "## Histogram\n",
    "## Violin Plots\n",
    "## Pie charts\n",
    "## Scatter plot (e.g. danceability_% vs. energy_%)\n",
    "## Correlation Heatmap\n",
    "## PCAs"
   ]
  },
  {
   "cell_type": "code",
   "execution_count": null,
   "metadata": {},
   "outputs": [],
   "source": [
    "# Correlation Heatmap \n",
    "columns = [\"danceability_%\", \"valence_%\", \"energy_%\", \"acousticness_%\", \"instrumentalness_%\",\n",
    "\"liveness_%\", \"speechiness_%\"]\n",
    "correlation_matrix = data[columns].corr()\n",
    "\n",
    "plt.figure(figsize=(8, 6))\n",
    "sns.heatmap(correlation_matrix, annot=True, cmap=\"coolwarm\", linewidth=0.5)\n",
    "plt.title(\"Correlation Heatmap for _% attributes\")\n",
    "plt.show()"
   ]
  },
  {
   "cell_type": "code",
   "execution_count": null,
   "metadata": {},
   "outputs": [],
   "source": [
    "# Violin Plot\n",
    "\n",
    "plt.figure(figsize=(6, 6))\n",
    "sns.violinplot(y=\"bpm\", data=data, orient=\"v\")\n",
    "plt.title(\"Violin Plot of bpm\")\n",
    "plt.show()"
   ]
  }
 ],
 "metadata": {
  "kernelspec": {
   "display_name": "mlshit",
   "language": "python",
   "name": "python3"
  },
  "language_info": {
   "codemirror_mode": {
    "name": "ipython",
    "version": 3
   },
   "file_extension": ".py",
   "mimetype": "text/x-python",
   "name": "python",
   "nbconvert_exporter": "python",
   "pygments_lexer": "ipython3",
   "version": "3.11.0"
  },
  "orig_nbformat": 4
 },
 "nbformat": 4,
 "nbformat_minor": 2
}
