{
 "cells": [
  {
   "cell_type": "code",
   "execution_count": null,
   "metadata": {},
   "outputs": [],
   "source": [
    "import pandas as pd\n",
    "import seaborn as sns\n",
    "import matplotlib.pyplot as plt\n",
    "import numpy as np"
   ]
  },
  {
   "cell_type": "code",
   "execution_count": null,
   "metadata": {},
   "outputs": [],
   "source": [
    "dataset_path = \"dataset/dataset-spotify-2023.csv\"\n",
    "data = pd.read_csv(dataset_path, encoding=\"latin-1\")"
   ]
  },
  {
   "cell_type": "code",
   "execution_count": null,
   "metadata": {},
   "outputs": [],
   "source": [
    "data.head()"
   ]
  },
  {
   "cell_type": "code",
   "execution_count": null,
   "metadata": {},
   "outputs": [],
   "source": [
    "data.info(verbose=True, show_counts=True)"
   ]
  },
  {
   "cell_type": "markdown",
   "metadata": {},
   "source": [
    "## Characterizing data columns\n",
    "\n",
    "* track_name    (discrete, nominal) \n",
    "* artist(s)_name    (discrete, nominal) \n",
    "* artist_count  (discrete, ratio) \n",
    "* released_year (discrete, ordinal) \n",
    "* released_month    (discrete, ordinal) \n",
    "* released_day  (discrete, ordinal) \n",
    "* in_spotify_playlists  (discrete, ratio) \n",
    "* in_spotify_charts (discrete, ratio) \n",
    "* streams   (discrete, ratio) \n",
    "* in_apple_playlists    (discrete, ratio)\n",
    "* in_apple_charts   (discrete, ratio) \n",
    "* in_deezer_playlists   (discrete, ratio) \n",
    "* in_deezer_charts  (discrete, ratio)\n",
    "* in_shazam_charts  (discrete, ratio) \n",
    "* bpm   (continuous, ratio) \n",
    "* key   (discrete, nominal) \n",
    "* mode  (discrete, nominal) \n",
    "* danceability_%    (continuous, ratio) \n",
    "* valence_% (continuous, ratio) \n",
    "* energy_%  (continuous, ratio) \n",
    "* acousticness_%    (continuous, ratio) \n",
    "* instrumentalness_%    (continuous, ratio) \n",
    "* liveness_%    (continuous, ratio) \n",
    "* speechiness_% (continuous, ratio) "
   ]
  },
  {
   "cell_type": "markdown",
   "metadata": {},
   "source": [
    "## Useful code from Toolbox\n",
    "\n",
    "There is a list of already implemented functions we can use from the ToolBox to perform Data Analysis."
   ]
  },
  {
   "cell_type": "code",
   "execution_count": null,
   "metadata": {},
   "outputs": [],
   "source": [
    "# Data Plotting\n",
    "## Bar chart\n",
    "## Histogram\n",
    "## Pie charts\n",
    "## Scatter plot (e.g. danceability_% vs. energy_%)\n",
    "## Correlation Heatmap"
   ]
  }
 ],
 "metadata": {
  "kernelspec": {
   "display_name": "mlshit",
   "language": "python",
   "name": "python3"
  },
  "language_info": {
   "codemirror_mode": {
    "name": "ipython",
    "version": 3
   },
   "file_extension": ".py",
   "mimetype": "text/x-python",
   "name": "python",
   "nbconvert_exporter": "python",
   "pygments_lexer": "ipython3",
   "version": "3.11.0"
  },
  "orig_nbformat": 4
 },
 "nbformat": 4,
 "nbformat_minor": 2
}
